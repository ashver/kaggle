{
  "nbformat": 4,
  "nbformat_minor": 0,
  "metadata": {
    "colab": {
      "name": "carPrediction.ipynb",
      "provenance": [],
      "private_outputs": true,
      "authorship_tag": "ABX9TyMPAnjhgH5AyGOrRMaUPQGW",
      "include_colab_link": true
    },
    "kernelspec": {
      "name": "python3",
      "display_name": "Python 3"
    }
  },
  "cells": [
    {
      "cell_type": "markdown",
      "metadata": {
        "id": "view-in-github",
        "colab_type": "text"
      },
      "source": [
        "<a href=\"https://colab.research.google.com/github/ashver/kaggle/blob/master/Car%20Data-cardekho.com/carPrediction.ipynb\" target=\"_parent\"><img src=\"https://colab.research.google.com/assets/colab-badge.svg\" alt=\"Open In Colab\"/></a>"
      ]
    },
    {
      "cell_type": "code",
      "metadata": {
        "id": "EH_dcdvgvojq",
        "colab_type": "code",
        "colab": {}
      },
      "source": [
        "import pandas as pd"
      ],
      "execution_count": null,
      "outputs": []
    },
    {
      "cell_type": "code",
      "metadata": {
        "id": "49HrmakgzQ1B",
        "colab_type": "code",
        "colab": {}
      },
      "source": [
        "carData = pd.read_csv(../)"
      ],
      "execution_count": null,
      "outputs": []
    }
  ]
}